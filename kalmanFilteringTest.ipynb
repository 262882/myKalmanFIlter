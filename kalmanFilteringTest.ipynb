{
 "cells": [
  {
   "cell_type": "code",
   "execution_count": 1,
   "id": "00c1d3e0",
   "metadata": {},
   "outputs": [],
   "source": [
    "import pandas as pd\n",
    "import numpy as np\n",
    "from matplotlib import pyplot as plt\n",
    "from msc_filtering import MyKalmanFilterUnivariate, MyKalmanFilterMultivariate"
   ]
  },
  {
   "cell_type": "markdown",
   "id": "c98b9d1a",
   "metadata": {},
   "source": [
    "## Some theory"
   ]
  },
  {
   "cell_type": "markdown",
   "id": "e16775d2",
   "metadata": {},
   "source": [
    "#### Standard kalman filter"
   ]
  },
  {
   "cell_type": "markdown",
   "id": "b5c2fd9e",
   "metadata": {},
   "source": [
    "The discrete state-space process model defines the evolution of the state from time k−1 to time k  as:\n",
    "\n",
    "$x_k=Fx_{k−1}+Bu_{k−1}+w_{k−1}$"
   ]
  },
  {
   "cell_type": "markdown",
   "id": "5e8fe522",
   "metadata": {},
   "source": [
    "$x$: state vector <br> \n",
    "$F$: state transition matrix <br> \n",
    "$u$: control vector <br> \n",
    "$B$: control-input matrix <br> \n",
    "$w$: process noise vector $w \\sim N(0,Q)$ "
   ]
  },
  {
   "cell_type": "markdown",
   "id": "2624efa2",
   "metadata": {},
   "source": [
    "The measurement/observation model describes the relationship between the state and the measurement at the current time step $k$\n",
    "\n",
    "$z_k=Hx_{k}+{\\upsilon}_k$\n"
   ]
  },
  {
   "cell_type": "markdown",
   "id": "f853edf4",
   "metadata": {},
   "source": [
    "$z$: measurement vector <br> \n",
    "$H$: measurement matrix <br> \n",
    "$\\upsilon$: measurement noise vector $\\upsilon \\sim N(0,R)$ "
   ]
  },
  {
   "cell_type": "markdown",
   "id": "bb8fa584",
   "metadata": {},
   "source": [
    "$F$ is a discretised process which can be found from a continous linear first order state space model using the infinite sum. If you take a differential equation and discretize it in order to solve it numerically you will end up with a difference equations (difference between two consecutive values - can use to create a corresponding recursive equation) "
   ]
  },
  {
   "cell_type": "markdown",
   "id": "57b87ab4",
   "metadata": {},
   "source": [
    "$\\dot{x} = A \\cdot x $"
   ]
  },
  {
   "cell_type": "markdown",
   "id": "c229f834",
   "metadata": {},
   "source": [
    "Using:\n",
    "$e^x= 1 + \\sum_{i=1}^{\\infty}\\frac{x^i}{i!} $"
   ]
  },
  {
   "cell_type": "markdown",
   "id": "1b9be3af",
   "metadata": {},
   "source": [
    "$F_t = e^{{\\Delta}tA} = I + \\sum_{i=1}^{\\infty}\\frac{{\\Delta}t^iA^i}{i!} $ Where $I$ is the identity"
   ]
  },
  {
   "cell_type": "markdown",
   "id": "d0d7e86d",
   "metadata": {},
   "source": [
    "#### Extended Kalman filter"
   ]
  },
  {
   "cell_type": "markdown",
   "id": "22142d01",
   "metadata": {},
   "source": [
    "For a nonlinear dynamic system - one is not able to define either or both the process model or measurement model with multiplication of vectors and matrices. In an EKF we linearize the models about a current estimate using a Taylor series."
   ]
  },
  {
   "cell_type": "markdown",
   "id": "0bc68228",
   "metadata": {},
   "source": [
    "## Test Kalman filtering"
   ]
  },
  {
   "cell_type": "markdown",
   "id": "7c3bd23a",
   "metadata": {},
   "source": [
    "####  Constant with constant model"
   ]
  },
  {
   "cell_type": "markdown",
   "id": "0b5183cc",
   "metadata": {},
   "source": [
    "Water tank with constant level at L=1"
   ]
  },
  {
   "cell_type": "markdown",
   "id": "8e50aad8",
   "metadata": {},
   "source": [
    "Define kalman filter params"
   ]
  },
  {
   "cell_type": "code",
   "execution_count": 2,
   "id": "92105e54",
   "metadata": {},
   "outputs": [],
   "source": [
    "x0 = 0  # Initial value - arbitrary guess\n",
    "p0 = 1000  # State covariances (Error of estimation) - Init high since unknown\n",
    "Q = 0.0001  # System noise\n",
    "R = 0.1  # Measurement noise"
   ]
  },
  {
   "cell_type": "markdown",
   "id": "63ed51b3",
   "metadata": {},
   "source": [
    "Instantiate filter"
   ]
  },
  {
   "cell_type": "code",
   "execution_count": 3,
   "id": "10a2afdc",
   "metadata": {},
   "outputs": [],
   "source": [
    "testFilter_const = MyKalmanFilterUnivariate(x0, p0, R, Q)"
   ]
  },
  {
   "cell_type": "markdown",
   "id": "a2a9642a",
   "metadata": {},
   "source": [
    "Evaluate against synthetic data"
   ]
  },
  {
   "cell_type": "code",
   "execution_count": 4,
   "id": "16c341be",
   "metadata": {},
   "outputs": [],
   "source": [
    "%%capture\n",
    "xt_intr_list = []\n",
    "Pt_intr_list = []\n",
    "k_gain_list = []\n",
    "xt_curr_list = []\n",
    "Pt_curr_list = []\n",
    "\n",
    "measure_list = [0.9, 0.8, 1.1, 1, 0.95, 1.05, 1.2, 0.9, 0.85, 1.15]\n",
    "for measure in measure_list:\n",
    "    testFilter_const.step(measure);\n",
    "    xt_intr_list.append(testFilter_const.xt_intr)\n",
    "    Pt_intr_list.append(testFilter_const.Pt_intr)\n",
    "    k_gain_list.append(testFilter_const.k_gain)\n",
    "    xt_curr_list.append(testFilter_const.xt_curr)\n",
    "    Pt_curr_list.append(testFilter_const.Pt_curr)"
   ]
  },
  {
   "cell_type": "markdown",
   "id": "697da5ec",
   "metadata": {},
   "source": [
    "Check results"
   ]
  },
  {
   "cell_type": "code",
   "execution_count": 5,
   "id": "8a1c97af",
   "metadata": {},
   "outputs": [],
   "source": [
    "list_of_lists = [xt_intr_list,Pt_intr_list,k_gain_list,xt_curr_list,Pt_curr_list]\n",
    "df_level = pd.DataFrame(list(zip(*list_of_lists)), columns= ['xt_intr','Pt_intr','k_gain','xt_curr','Pt_curr'])"
   ]
  },
  {
   "cell_type": "code",
   "execution_count": 6,
   "id": "93ba5113",
   "metadata": {},
   "outputs": [
    {
     "data": {
      "text/html": [
       "<div>\n",
       "<style scoped>\n",
       "    .dataframe tbody tr th:only-of-type {\n",
       "        vertical-align: middle;\n",
       "    }\n",
       "\n",
       "    .dataframe tbody tr th {\n",
       "        vertical-align: top;\n",
       "    }\n",
       "\n",
       "    .dataframe thead th {\n",
       "        text-align: right;\n",
       "    }\n",
       "</style>\n",
       "<table border=\"1\" class=\"dataframe\">\n",
       "  <thead>\n",
       "    <tr style=\"text-align: right;\">\n",
       "      <th></th>\n",
       "      <th>xt_intr</th>\n",
       "      <th>Pt_intr</th>\n",
       "      <th>k_gain</th>\n",
       "      <th>xt_curr</th>\n",
       "      <th>Pt_curr</th>\n",
       "    </tr>\n",
       "  </thead>\n",
       "  <tbody>\n",
       "    <tr>\n",
       "      <th>0</th>\n",
       "      <td>0.000000</td>\n",
       "      <td>1000.000100</td>\n",
       "      <td>0.999900</td>\n",
       "      <td>0.899910</td>\n",
       "      <td>0.099990</td>\n",
       "    </tr>\n",
       "    <tr>\n",
       "      <th>1</th>\n",
       "      <td>0.899910</td>\n",
       "      <td>0.100090</td>\n",
       "      <td>0.500225</td>\n",
       "      <td>0.849933</td>\n",
       "      <td>0.050022</td>\n",
       "    </tr>\n",
       "    <tr>\n",
       "      <th>2</th>\n",
       "      <td>0.849933</td>\n",
       "      <td>0.050122</td>\n",
       "      <td>0.333877</td>\n",
       "      <td>0.933424</td>\n",
       "      <td>0.033388</td>\n",
       "    </tr>\n",
       "    <tr>\n",
       "      <th>3</th>\n",
       "      <td>0.933424</td>\n",
       "      <td>0.033488</td>\n",
       "      <td>0.250867</td>\n",
       "      <td>0.950126</td>\n",
       "      <td>0.025087</td>\n",
       "    </tr>\n",
       "    <tr>\n",
       "      <th>4</th>\n",
       "      <td>0.950126</td>\n",
       "      <td>0.025187</td>\n",
       "      <td>0.201193</td>\n",
       "      <td>0.950101</td>\n",
       "      <td>0.020119</td>\n",
       "    </tr>\n",
       "    <tr>\n",
       "      <th>5</th>\n",
       "      <td>0.950101</td>\n",
       "      <td>0.020219</td>\n",
       "      <td>0.168187</td>\n",
       "      <td>0.966902</td>\n",
       "      <td>0.016819</td>\n",
       "    </tr>\n",
       "    <tr>\n",
       "      <th>6</th>\n",
       "      <td>0.966902</td>\n",
       "      <td>0.016919</td>\n",
       "      <td>0.144705</td>\n",
       "      <td>1.000633</td>\n",
       "      <td>0.014470</td>\n",
       "    </tr>\n",
       "    <tr>\n",
       "      <th>7</th>\n",
       "      <td>1.000633</td>\n",
       "      <td>0.014570</td>\n",
       "      <td>0.127175</td>\n",
       "      <td>0.987835</td>\n",
       "      <td>0.012717</td>\n",
       "    </tr>\n",
       "    <tr>\n",
       "      <th>8</th>\n",
       "      <td>0.987835</td>\n",
       "      <td>0.012817</td>\n",
       "      <td>0.113613</td>\n",
       "      <td>0.972175</td>\n",
       "      <td>0.011361</td>\n",
       "    </tr>\n",
       "    <tr>\n",
       "      <th>9</th>\n",
       "      <td>0.972175</td>\n",
       "      <td>0.011461</td>\n",
       "      <td>0.102827</td>\n",
       "      <td>0.990460</td>\n",
       "      <td>0.010283</td>\n",
       "    </tr>\n",
       "  </tbody>\n",
       "</table>\n",
       "</div>"
      ],
      "text/plain": [
       "    xt_intr      Pt_intr    k_gain   xt_curr   Pt_curr\n",
       "0  0.000000  1000.000100  0.999900  0.899910  0.099990\n",
       "1  0.899910     0.100090  0.500225  0.849933  0.050022\n",
       "2  0.849933     0.050122  0.333877  0.933424  0.033388\n",
       "3  0.933424     0.033488  0.250867  0.950126  0.025087\n",
       "4  0.950126     0.025187  0.201193  0.950101  0.020119\n",
       "5  0.950101     0.020219  0.168187  0.966902  0.016819\n",
       "6  0.966902     0.016919  0.144705  1.000633  0.014470\n",
       "7  1.000633     0.014570  0.127175  0.987835  0.012717\n",
       "8  0.987835     0.012817  0.113613  0.972175  0.011361\n",
       "9  0.972175     0.011461  0.102827  0.990460  0.010283"
      ]
     },
     "execution_count": 6,
     "metadata": {},
     "output_type": "execute_result"
    }
   ],
   "source": [
    "df_level"
   ]
  },
  {
   "cell_type": "code",
   "execution_count": 7,
   "id": "e531e643",
   "metadata": {},
   "outputs": [
    {
     "data": {
      "image/png": "[encoded data removed]",
      "text/plain": [
       "<Figure size 640x480 with 1 Axes>"
      ]
     },
     "metadata": {},
     "output_type": "display_data"
    }
   ],
   "source": [
    "plt.plot(df_level.index, df_level['xt_curr'] ,marker=\".\",color=\"black\")\n",
    "plt.plot(df_level.index, measure_list ,marker=\".\",color=\"red\")\n",
    "plt.plot(df_level.index, np.ones(len(df_level.index)) ,marker=\".\",color=\"g\")\n",
    "plt.title(\"Constant level kalman filter\")\n",
    "plt.xlabel(\"Time\")\n",
    "plt.ylabel(\"Level\")\n",
    "plt.legend([\"Estimated\",\"Measured\",\"True Value\"],loc='upper left')\n",
    "plt.show()"
   ]
  },
  {
   "cell_type": "markdown",
   "id": "cd1d7115",
   "metadata": {},
   "source": [
    "#### Constant increasing with constant model"
   ]
  },
  {
   "cell_type": "markdown",
   "id": "0870f2a6",
   "metadata": {},
   "source": [
    "Water tank with constant filling at 0.1"
   ]
  },
  {
   "cell_type": "code",
   "execution_count": 8,
   "id": "5c7a9c30",
   "metadata": {},
   "outputs": [],
   "source": [
    "rising_level = 0\n",
    "gt_level = []\n",
    "\n",
    "steps = 6\n",
    "for _ in range(steps):\n",
    "    rising_level = rising_level + 0.1\n",
    "    gt_level.append(rising_level)"
   ]
  },
  {
   "cell_type": "code",
   "execution_count": 9,
   "id": "ad1377ca",
   "metadata": {},
   "outputs": [
    {
     "data": {
      "text/plain": [
       "[0.1, 0.2, 0.30000000000000004, 0.4, 0.5, 0.6]"
      ]
     },
     "execution_count": 9,
     "metadata": {},
     "output_type": "execute_result"
    }
   ],
   "source": [
    "gt_level"
   ]
  },
  {
   "cell_type": "markdown",
   "id": "464cde09",
   "metadata": {},
   "source": [
    "Define kalman filter params"
   ]
  },
  {
   "cell_type": "code",
   "execution_count": 10,
   "id": "f1d2bc09",
   "metadata": {},
   "outputs": [],
   "source": [
    "x0 = 0  # Initial value - arbitrary guess\n",
    "p0 = 1000  # State covariances (Error of estimation) - High since unknown\n",
    "Q = 0.001  # System noise\n",
    "R = 0.1  # Measurement noise"
   ]
  },
  {
   "cell_type": "markdown",
   "id": "a16c7667",
   "metadata": {},
   "source": [
    "Instantiate filter"
   ]
  },
  {
   "cell_type": "code",
   "execution_count": 11,
   "id": "e939576c",
   "metadata": {},
   "outputs": [],
   "source": [
    "testFilter_rising = MyKalmanFilterUnivariate(x0, p0, R, Q)"
   ]
  },
  {
   "cell_type": "markdown",
   "id": "c4b51086",
   "metadata": {},
   "source": [
    "Evaluate against synthetic data"
   ]
  },
  {
   "cell_type": "code",
   "execution_count": 12,
   "id": "88134187",
   "metadata": {},
   "outputs": [],
   "source": [
    "%%capture\n",
    "xt_intr_list = []\n",
    "Pt_intr_list = []\n",
    "k_gain_list = []\n",
    "xt_curr_list = []\n",
    "Pt_curr_list = []\n",
    "\n",
    "measure_list = [0.11, 0.29, 0.32, 0.5, 0.58, 0.54]\n",
    "for measure in measure_list:\n",
    "    testFilter_rising.step(measure);\n",
    "    \n",
    "    # Record time steps    \n",
    "    xt_intr_list.append(testFilter_rising.xt_intr)\n",
    "    Pt_intr_list.append(testFilter_rising.Pt_intr)\n",
    "    k_gain_list.append(testFilter_rising.k_gain)\n",
    "    xt_curr_list.append(testFilter_rising.xt_curr)\n",
    "    Pt_curr_list.append(testFilter_rising.Pt_curr)"
   ]
  },
  {
   "cell_type": "markdown",
   "id": "2a908e0d",
   "metadata": {},
   "source": [
    "Check results"
   ]
  },
  {
   "cell_type": "code",
   "execution_count": 13,
   "id": "3f7b3fcf",
   "metadata": {},
   "outputs": [],
   "source": [
    "list_of_lists = [xt_intr_list,Pt_intr_list,k_gain_list,xt_curr_list,Pt_curr_list]\n",
    "df_rising_level = pd.DataFrame(list(zip(*list_of_lists)), columns= ['xt_intr','Pt_intr','k_gain','xt_curr','Pt_curr'])"
   ]
  },
  {
   "cell_type": "code",
   "execution_count": 14,
   "id": "20eb5b52",
   "metadata": {},
   "outputs": [
    {
     "data": {
      "text/html": [
       "<div>\n",
       "<style scoped>\n",
       "    .dataframe tbody tr th:only-of-type {\n",
       "        vertical-align: middle;\n",
       "    }\n",
       "\n",
       "    .dataframe tbody tr th {\n",
       "        vertical-align: top;\n",
       "    }\n",
       "\n",
       "    .dataframe thead th {\n",
       "        text-align: right;\n",
       "    }\n",
       "</style>\n",
       "<table border=\"1\" class=\"dataframe\">\n",
       "  <thead>\n",
       "    <tr style=\"text-align: right;\">\n",
       "      <th></th>\n",
       "      <th>xt_intr</th>\n",
       "      <th>Pt_intr</th>\n",
       "      <th>k_gain</th>\n",
       "      <th>xt_curr</th>\n",
       "      <th>Pt_curr</th>\n",
       "    </tr>\n",
       "  </thead>\n",
       "  <tbody>\n",
       "    <tr>\n",
       "      <th>0</th>\n",
       "      <td>0.000000</td>\n",
       "      <td>1000.001000</td>\n",
       "      <td>0.999900</td>\n",
       "      <td>0.109989</td>\n",
       "      <td>0.099990</td>\n",
       "    </tr>\n",
       "    <tr>\n",
       "      <th>1</th>\n",
       "      <td>0.109989</td>\n",
       "      <td>0.100990</td>\n",
       "      <td>0.502463</td>\n",
       "      <td>0.200438</td>\n",
       "      <td>0.050246</td>\n",
       "    </tr>\n",
       "    <tr>\n",
       "      <th>2</th>\n",
       "      <td>0.200438</td>\n",
       "      <td>0.051246</td>\n",
       "      <td>0.338827</td>\n",
       "      <td>0.240949</td>\n",
       "      <td>0.033883</td>\n",
       "    </tr>\n",
       "    <tr>\n",
       "      <th>3</th>\n",
       "      <td>0.240949</td>\n",
       "      <td>0.034883</td>\n",
       "      <td>0.258615</td>\n",
       "      <td>0.307943</td>\n",
       "      <td>0.025861</td>\n",
       "    </tr>\n",
       "    <tr>\n",
       "      <th>4</th>\n",
       "      <td>0.307943</td>\n",
       "      <td>0.026861</td>\n",
       "      <td>0.211739</td>\n",
       "      <td>0.365548</td>\n",
       "      <td>0.021174</td>\n",
       "    </tr>\n",
       "    <tr>\n",
       "      <th>5</th>\n",
       "      <td>0.365548</td>\n",
       "      <td>0.022174</td>\n",
       "      <td>0.181494</td>\n",
       "      <td>0.397210</td>\n",
       "      <td>0.018149</td>\n",
       "    </tr>\n",
       "  </tbody>\n",
       "</table>\n",
       "</div>"
      ],
      "text/plain": [
       "    xt_intr      Pt_intr    k_gain   xt_curr   Pt_curr\n",
       "0  0.000000  1000.001000  0.999900  0.109989  0.099990\n",
       "1  0.109989     0.100990  0.502463  0.200438  0.050246\n",
       "2  0.200438     0.051246  0.338827  0.240949  0.033883\n",
       "3  0.240949     0.034883  0.258615  0.307943  0.025861\n",
       "4  0.307943     0.026861  0.211739  0.365548  0.021174\n",
       "5  0.365548     0.022174  0.181494  0.397210  0.018149"
      ]
     },
     "execution_count": 14,
     "metadata": {},
     "output_type": "execute_result"
    }
   ],
   "source": [
    "df_rising_level"
   ]
  },
  {
   "cell_type": "code",
   "execution_count": 15,
   "id": "cef1e626",
   "metadata": {},
   "outputs": [
    {
     "data": {
      "image/png": "[encoded data removed]",
      "text/plain": [
       "<Figure size 640x480 with 1 Axes>"
      ]
     },
     "metadata": {},
     "output_type": "display_data"
    }
   ],
   "source": [
    "plt.plot(df_rising_level.index, df_rising_level['xt_curr'] ,marker=\".\",color=\"black\")\n",
    "plt.plot(df_rising_level.index, measure_list ,marker=\".\",color=\"red\")\n",
    "plt.plot(df_rising_level.index, gt_level ,marker=\".\",color=\"g\")\n",
    "plt.title(\"Constant level kalman filter\")\n",
    "plt.xlabel(\"Time\")\n",
    "plt.ylabel(\"Level\")\n",
    "plt.legend([\"Estimated\",\"Measured\",\"True Value\"],loc='upper left')\n",
    "plt.show()"
   ]
  },
  {
   "cell_type": "markdown",
   "id": "8b3ee2d7",
   "metadata": {},
   "source": [
    "#### Constant increasing with constant increasing model"
   ]
  },
  {
   "cell_type": "markdown",
   "id": "9cd3d3ae",
   "metadata": {},
   "source": [
    "Using a sampling rate of $\\Delta t= 1$"
   ]
  },
  {
   "cell_type": "code",
   "execution_count": 16,
   "id": "ebdfedd0",
   "metadata": {},
   "outputs": [],
   "source": [
    "X0 = np.array([0,0])  # Level, Filling rate\n",
    "P0 = np.array([[1000,0],[0, 1000]])  # Assume no correlation between states\n",
    "F = np.array([[1, 1], [0, 1]])\n",
    "r = 0.3\n",
    "q = 0.00001\n",
    "Q = np.array([[q/3,q/2],[q/2,q]])\n",
    "H = np.array([1, 0])"
   ]
  },
  {
   "cell_type": "code",
   "execution_count": 17,
   "id": "fa98e8cc",
   "metadata": {},
   "outputs": [],
   "source": [
    "testFilter_filling = MyKalmanFilterMultivariate(X0, P0, r, Q, F, H)"
   ]
  },
  {
   "cell_type": "code",
   "execution_count": 18,
   "id": "daade4d5",
   "metadata": {},
   "outputs": [],
   "source": [
    "#%%capture\n",
    "xt_intr_list = []\n",
    "Pt_intr_list = []\n",
    "k_gain_list = []\n",
    "xt_curr_list = []\n",
    "Pt_curr_list = []\n",
    "\n",
    "measure_list = [0.3, 0.45, 0.2, 0.48, 0.75, 0.6]\n",
    "for measure in measure_list:\n",
    "    testFilter_filling.step(measure);\n",
    "    \n",
    "    # Record time steps    \n",
    "    xt_intr_list.append(testFilter_filling.xt_intr)\n",
    "    Pt_intr_list.append(testFilter_filling.Pt_intr)\n",
    "    k_gain_list.append(testFilter_filling.k_gain)\n",
    "    xt_curr_list.append(testFilter_filling.xt_curr)\n",
    "    Pt_curr_list.append(testFilter_filling.Pt_curr)"
   ]
  },
  {
   "cell_type": "code",
   "execution_count": 19,
   "id": "546fb982",
   "metadata": {},
   "outputs": [],
   "source": [
    "list_of_lists = [xt_intr_list,Pt_intr_list,k_gain_list,xt_curr_list,Pt_curr_list]\n",
    "df_filling = pd.DataFrame(list(zip(*list_of_lists)), columns= ['xt_intr','Pt_intr','k_gain','xt_curr','Pt_curr'])"
   ]
  },
  {
   "cell_type": "code",
   "execution_count": 20,
   "id": "b4a80a76",
   "metadata": {},
   "outputs": [
    {
     "data": {
      "text/html": [
       "<div>\n",
       "<style scoped>\n",
       "    .dataframe tbody tr th:only-of-type {\n",
       "        vertical-align: middle;\n",
       "    }\n",
       "\n",
       "    .dataframe tbody tr th {\n",
       "        vertical-align: top;\n",
       "    }\n",
       "\n",
       "    .dataframe thead th {\n",
       "        text-align: right;\n",
       "    }\n",
       "</style>\n",
       "<table border=\"1\" class=\"dataframe\">\n",
       "  <thead>\n",
       "    <tr style=\"text-align: right;\">\n",
       "      <th></th>\n",
       "      <th>xt_intr</th>\n",
       "      <th>Pt_intr</th>\n",
       "      <th>k_gain</th>\n",
       "      <th>xt_curr</th>\n",
       "      <th>Pt_curr</th>\n",
       "    </tr>\n",
       "  </thead>\n",
       "  <tbody>\n",
       "    <tr>\n",
       "      <th>0</th>\n",
       "      <td>[0, 0]</td>\n",
       "      <td>[[2000.0000033333333, 1000.000005], [1000.0000...</td>\n",
       "      <td>[0.9998500224968755, 0.4999250129148544]</td>\n",
       "      <td>[0.2999550067490626, 0.14997750387445632]</td>\n",
       "      <td>[[0.2999550067489447, 0.14997750387439737], [0...</td>\n",
       "    </tr>\n",
       "    <tr>\n",
       "      <th>1</th>\n",
       "      <td>[0.4499325106235189, 0.14997750387445632]</td>\n",
       "      <td>[[0.7498908524553577, 0.29996000849868226], [0...</td>\n",
       "      <td>[0.7142560111859283, 0.2857058977103878]</td>\n",
       "      <td>[0.44998071531636175, 0.14999678598734978]</td>\n",
       "      <td>[[0.21427680335577842, 0.08571176931311632], [...</td>\n",
       "    </tr>\n",
       "    <tr>\n",
       "      <th>2</th>\n",
       "      <td>[0.5999775013037115, 0.14999678598734978]</td>\n",
       "      <td>[[0.4285617031589566, 0.1285747971567285], [0....</td>\n",
       "      <td>[0.5882297975597183, 0.17647756751314753]</td>\n",
       "      <td>[0.36469881668338733, 0.07940972949728398]</td>\n",
       "      <td>[[0.1764689392679155, 0.052943270253944255], [...</td>\n",
       "    </tr>\n",
       "    <tr>\n",
       "      <th>3</th>\n",
       "      <td>[0.4441085461806713, 0.07940972949728398]</td>\n",
       "      <td>[[0.3000105896125172, 0.07060004675732409], [0...</td>\n",
       "      <td>[0.5000088245213505, 0.11766466789014028]</td>\n",
       "      <td>[0.46205458981523617, 0.0836328854910296]</td>\n",
       "      <td>[[0.15000264735640517, 0.035299400367042086], ...</td>\n",
       "    </tr>\n",
       "    <tr>\n",
       "      <th>4</th>\n",
       "      <td>[0.5456874753062657, 0.0836328854910296]</td>\n",
       "      <td>[[0.22943551381878877, 0.04413513276200815], [...</td>\n",
       "      <td>[0.4333587525398197, 0.08336262228361659]</td>\n",
       "      <td>[0.6342280961358036, 0.10066491331488545]</td>\n",
       "      <td>[[0.1300076257619459, 0.025008786685084973], [...</td>\n",
       "    </tr>\n",
       "    <tr>\n",
       "      <th>5</th>\n",
       "      <td>[0.734893009450689, 0.10066491331488545]</td>\n",
       "      <td>[[0.18503805609819438, 0.030023310317830176], ...</td>\n",
       "      <td>[0.3814918309435374, 0.061898875645650484]</td>\n",
       "      <td>[0.6834324282938617, 0.09231518769742969]</td>\n",
       "      <td>[[0.11444754928306122, 0.018569662693695147], ...</td>\n",
       "    </tr>\n",
       "  </tbody>\n",
       "</table>\n",
       "</div>"
      ],
      "text/plain": [
       "                                     xt_intr  \\\n",
       "0                                     [0, 0]   \n",
       "1  [0.4499325106235189, 0.14997750387445632]   \n",
       "2  [0.5999775013037115, 0.14999678598734978]   \n",
       "3  [0.4441085461806713, 0.07940972949728398]   \n",
       "4   [0.5456874753062657, 0.0836328854910296]   \n",
       "5   [0.734893009450689, 0.10066491331488545]   \n",
       "\n",
       "                                             Pt_intr  \\\n",
       "0  [[2000.0000033333333, 1000.000005], [1000.0000...   \n",
       "1  [[0.7498908524553577, 0.29996000849868226], [0...   \n",
       "2  [[0.4285617031589566, 0.1285747971567285], [0....   \n",
       "3  [[0.3000105896125172, 0.07060004675732409], [0...   \n",
       "4  [[0.22943551381878877, 0.04413513276200815], [...   \n",
       "5  [[0.18503805609819438, 0.030023310317830176], ...   \n",
       "\n",
       "                                       k_gain  \\\n",
       "0    [0.9998500224968755, 0.4999250129148544]   \n",
       "1    [0.7142560111859283, 0.2857058977103878]   \n",
       "2   [0.5882297975597183, 0.17647756751314753]   \n",
       "3   [0.5000088245213505, 0.11766466789014028]   \n",
       "4   [0.4333587525398197, 0.08336262228361659]   \n",
       "5  [0.3814918309435374, 0.061898875645650484]   \n",
       "\n",
       "                                      xt_curr  \\\n",
       "0   [0.2999550067490626, 0.14997750387445632]   \n",
       "1  [0.44998071531636175, 0.14999678598734978]   \n",
       "2  [0.36469881668338733, 0.07940972949728398]   \n",
       "3   [0.46205458981523617, 0.0836328854910296]   \n",
       "4   [0.6342280961358036, 0.10066491331488545]   \n",
       "5   [0.6834324282938617, 0.09231518769742969]   \n",
       "\n",
       "                                             Pt_curr  \n",
       "0  [[0.2999550067489447, 0.14997750387439737], [0...  \n",
       "1  [[0.21427680335577842, 0.08571176931311632], [...  \n",
       "2  [[0.1764689392679155, 0.052943270253944255], [...  \n",
       "3  [[0.15000264735640517, 0.035299400367042086], ...  \n",
       "4  [[0.1300076257619459, 0.025008786685084973], [...  \n",
       "5  [[0.11444754928306122, 0.018569662693695147], ...  "
      ]
     },
     "execution_count": 20,
     "metadata": {},
     "output_type": "execute_result"
    }
   ],
   "source": [
    "df_filling"
   ]
  },
  {
   "cell_type": "code",
   "execution_count": 21,
   "id": "6aa031db",
   "metadata": {},
   "outputs": [
    {
     "data": {
      "image/png": "[encoded data removed]",
      "text/plain": [
       "<Figure size 640x480 with 1 Axes>"
      ]
     },
     "metadata": {},
     "output_type": "display_data"
    }
   ],
   "source": [
    "plt.plot(df_filling.index, np.stack((df_filling['xt_curr'].to_numpy()).tolist(), axis=0)[:,0],marker=\".\",color=\"black\")\n",
    "plt.plot(df_filling.index, measure_list ,marker=\".\",color=\"red\")\n",
    "plt.plot(df_filling.index, gt_level ,marker=\".\",color=\"g\")\n",
    "plt.title(\"Constant level kalman filter\")\n",
    "plt.xlabel(\"Time\")\n",
    "plt.ylabel(\"Level\")\n",
    "plt.legend([\"Estimated\",\"Measured\",\"True Value\"],loc='upper left')\n",
    "plt.show()"
   ]
  },
  {
   "cell_type": "markdown",
   "id": "49c66b0c",
   "metadata": {},
   "source": [
    "When P is initialised high - the measurements are used rather then the initial values"
   ]
  }
 ],
 "metadata": {
  "kernelspec": {
   "display_name": "Python 3 (ipykernel)",
   "language": "python",
   "name": "python3"
  },
  "language_info": {
   "codemirror_mode": {
    "name": "ipython",
    "version": 3
   },
   "file_extension": ".py",
   "mimetype": "text/x-python",
   "name": "python",
   "nbconvert_exporter": "python",
   "pygments_lexer": "ipython3",
   "version": "3.9.16"
  }
 },
 "nbformat": 4,
 "nbformat_minor": 5
}
