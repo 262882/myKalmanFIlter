{
 "cells": [
  {
   "cell_type": "code",
   "execution_count": 1,
   "id": "00c1d3e0",
   "metadata": {},
   "outputs": [],
   "source": [
    "import pandas as pd\n",
    "import numpy as np\n",
    "from matplotlib import pyplot as plt\n",
    "from msc_filtering import MyKalmanFilter"
   ]
  },
  {
   "cell_type": "markdown",
   "id": "0bc68228",
   "metadata": {},
   "source": [
    "## Test Kalman filtering"
   ]
  },
  {
   "cell_type": "markdown",
   "id": "7c3bd23a",
   "metadata": {},
   "source": [
    "####  Constant with constant model"
   ]
  },
  {
   "cell_type": "markdown",
   "id": "0b5183cc",
   "metadata": {},
   "source": [
    "Water tank with constant level at L=1"
   ]
  },
  {
   "cell_type": "markdown",
   "id": "8e50aad8",
   "metadata": {},
   "source": [
    "Define kalman filter params"
   ]
  },
  {
   "cell_type": "code",
   "execution_count": 2,
   "id": "92105e54",
   "metadata": {},
   "outputs": [],
   "source": [
    "x0 = 0  # Initial value - arbitrary guess\n",
    "p0 = 1000  # State covariances (Error of estimation) - High since unknown\n",
    "q = 0.0001  # System noise\n",
    "r = 0.1  # Measurement noise"
   ]
  },
  {
   "cell_type": "markdown",
   "id": "6bed8760",
   "metadata": {},
   "source": [
    "Define process model"
   ]
  },
  {
   "cell_type": "code",
   "execution_count": 3,
   "id": "d4b70fd0",
   "metadata": {},
   "outputs": [],
   "source": [
    "def constant_func(input):\n",
    "    return input"
   ]
  },
  {
   "cell_type": "markdown",
   "id": "63ed51b3",
   "metadata": {},
   "source": [
    "Instantiate filter"
   ]
  },
  {
   "cell_type": "code",
   "execution_count": 4,
   "id": "10a2afdc",
   "metadata": {},
   "outputs": [
    {
     "name": "stdout",
     "output_type": "stream",
     "text": [
      "Initialise model\n"
     ]
    }
   ],
   "source": [
    "testFilter_const = MyKalmanFilter(x0, p0, constant_func, r, q)"
   ]
  },
  {
   "cell_type": "markdown",
   "id": "a2a9642a",
   "metadata": {},
   "source": [
    "Evaluate against synthetic data"
   ]
  },
  {
   "cell_type": "code",
   "execution_count": 5,
   "id": "16c341be",
   "metadata": {},
   "outputs": [],
   "source": [
    "%%capture\n",
    "xt_intr_list = []\n",
    "Pt_intr_list = []\n",
    "k_gain_list = []\n",
    "xt_curr_list = []\n",
    "Pt_curr_list = []\n",
    "\n",
    "measure_list = [0.9, 0.8, 1.1, 1, 0.95, 1.05, 1.2, 0.9, 0.85, 1.15]\n",
    "for measure in measure_list:\n",
    "    testFilter_const.step(measure);\n",
    "    xt_intr_list.append(testFilter_const.xt_intr)\n",
    "    Pt_intr_list.append(testFilter_const.Pt_intr)\n",
    "    k_gain_list.append(testFilter_const.k_gain)\n",
    "    xt_curr_list.append(testFilter_const.xt_curr)\n",
    "    Pt_curr_list.append(testFilter_const.Pt_curr)"
   ]
  },
  {
   "cell_type": "markdown",
   "id": "697da5ec",
   "metadata": {},
   "source": [
    "Check results"
   ]
  },
  {
   "cell_type": "code",
   "execution_count": 6,
   "id": "8a1c97af",
   "metadata": {},
   "outputs": [],
   "source": [
    "list_of_lists = [xt_intr_list,Pt_intr_list,k_gain_list,xt_curr_list,Pt_curr_list]\n",
    "df_level = pd.DataFrame(list(zip(*list_of_lists)), columns= ['xt_intr','Pt_intr','k_gain','xt_curr','Pt_curr'])"
   ]
  },
  {
   "cell_type": "code",
   "execution_count": 7,
   "id": "93ba5113",
   "metadata": {},
   "outputs": [
    {
     "data": {
      "text/html": [
       "<div>\n",
       "<style scoped>\n",
       "    .dataframe tbody tr th:only-of-type {\n",
       "        vertical-align: middle;\n",
       "    }\n",
       "\n",
       "    .dataframe tbody tr th {\n",
       "        vertical-align: top;\n",
       "    }\n",
       "\n",
       "    .dataframe thead th {\n",
       "        text-align: right;\n",
       "    }\n",
       "</style>\n",
       "<table border=\"1\" class=\"dataframe\">\n",
       "  <thead>\n",
       "    <tr style=\"text-align: right;\">\n",
       "      <th></th>\n",
       "      <th>xt_intr</th>\n",
       "      <th>Pt_intr</th>\n",
       "      <th>k_gain</th>\n",
       "      <th>xt_curr</th>\n",
       "      <th>Pt_curr</th>\n",
       "    </tr>\n",
       "  </thead>\n",
       "  <tbody>\n",
       "    <tr>\n",
       "      <th>0</th>\n",
       "      <td>0.000000</td>\n",
       "      <td>1000.000100</td>\n",
       "      <td>0.999900</td>\n",
       "      <td>0.899910</td>\n",
       "      <td>0.099990</td>\n",
       "    </tr>\n",
       "    <tr>\n",
       "      <th>1</th>\n",
       "      <td>0.899910</td>\n",
       "      <td>0.100090</td>\n",
       "      <td>0.500225</td>\n",
       "      <td>0.849933</td>\n",
       "      <td>0.050022</td>\n",
       "    </tr>\n",
       "    <tr>\n",
       "      <th>2</th>\n",
       "      <td>0.849933</td>\n",
       "      <td>0.050122</td>\n",
       "      <td>0.333877</td>\n",
       "      <td>0.933424</td>\n",
       "      <td>0.033388</td>\n",
       "    </tr>\n",
       "    <tr>\n",
       "      <th>3</th>\n",
       "      <td>0.933424</td>\n",
       "      <td>0.033488</td>\n",
       "      <td>0.250867</td>\n",
       "      <td>0.950126</td>\n",
       "      <td>0.025087</td>\n",
       "    </tr>\n",
       "    <tr>\n",
       "      <th>4</th>\n",
       "      <td>0.950126</td>\n",
       "      <td>0.025187</td>\n",
       "      <td>0.201193</td>\n",
       "      <td>0.950101</td>\n",
       "      <td>0.020119</td>\n",
       "    </tr>\n",
       "    <tr>\n",
       "      <th>5</th>\n",
       "      <td>0.950101</td>\n",
       "      <td>0.020219</td>\n",
       "      <td>0.168187</td>\n",
       "      <td>0.966902</td>\n",
       "      <td>0.016819</td>\n",
       "    </tr>\n",
       "    <tr>\n",
       "      <th>6</th>\n",
       "      <td>0.966902</td>\n",
       "      <td>0.016919</td>\n",
       "      <td>0.144705</td>\n",
       "      <td>1.000633</td>\n",
       "      <td>0.014470</td>\n",
       "    </tr>\n",
       "    <tr>\n",
       "      <th>7</th>\n",
       "      <td>1.000633</td>\n",
       "      <td>0.014570</td>\n",
       "      <td>0.127175</td>\n",
       "      <td>0.987835</td>\n",
       "      <td>0.012717</td>\n",
       "    </tr>\n",
       "    <tr>\n",
       "      <th>8</th>\n",
       "      <td>0.987835</td>\n",
       "      <td>0.012817</td>\n",
       "      <td>0.113613</td>\n",
       "      <td>0.972175</td>\n",
       "      <td>0.011361</td>\n",
       "    </tr>\n",
       "    <tr>\n",
       "      <th>9</th>\n",
       "      <td>0.972175</td>\n",
       "      <td>0.011461</td>\n",
       "      <td>0.102827</td>\n",
       "      <td>0.990460</td>\n",
       "      <td>0.010283</td>\n",
       "    </tr>\n",
       "  </tbody>\n",
       "</table>\n",
       "</div>"
      ],
      "text/plain": [
       "    xt_intr      Pt_intr    k_gain   xt_curr   Pt_curr\n",
       "0  0.000000  1000.000100  0.999900  0.899910  0.099990\n",
       "1  0.899910     0.100090  0.500225  0.849933  0.050022\n",
       "2  0.849933     0.050122  0.333877  0.933424  0.033388\n",
       "3  0.933424     0.033488  0.250867  0.950126  0.025087\n",
       "4  0.950126     0.025187  0.201193  0.950101  0.020119\n",
       "5  0.950101     0.020219  0.168187  0.966902  0.016819\n",
       "6  0.966902     0.016919  0.144705  1.000633  0.014470\n",
       "7  1.000633     0.014570  0.127175  0.987835  0.012717\n",
       "8  0.987835     0.012817  0.113613  0.972175  0.011361\n",
       "9  0.972175     0.011461  0.102827  0.990460  0.010283"
      ]
     },
     "execution_count": 7,
     "metadata": {},
     "output_type": "execute_result"
    }
   ],
   "source": [
    "df_level"
   ]
  },
  {
   "cell_type": "code",
   "execution_count": 8,
   "id": "e531e643",
   "metadata": {},
   "outputs": [
    {
     "data": {
      "image/png": "[encoded data removed]",
      "text/plain": [
       "<Figure size 640x480 with 1 Axes>"
      ]
     },
     "metadata": {},
     "output_type": "display_data"
    }
   ],
   "source": [
    "plt.plot(df_level.index, df_level['xt_curr'] ,marker=\".\",color=\"black\")\n",
    "plt.plot(df_level.index, measure_list ,marker=\".\",color=\"red\")\n",
    "plt.plot(df_level.index, np.ones(len(df_level.index)) ,marker=\".\",color=\"g\")\n",
    "plt.title(\"Constant level kalman filter\")\n",
    "plt.xlabel(\"Time\")\n",
    "plt.ylabel(\"Level\")\n",
    "plt.legend([\"Estimated\",\"Measured\",\"True Value\"],loc='upper left')\n",
    "plt.show()"
   ]
  },
  {
   "cell_type": "markdown",
   "id": "cd1d7115",
   "metadata": {},
   "source": [
    "#### Constant increasing with constant model"
   ]
  },
  {
   "cell_type": "markdown",
   "id": "0870f2a6",
   "metadata": {},
   "source": [
    "Water tank with constant filling at 0.1"
   ]
  },
  {
   "cell_type": "code",
   "execution_count": 9,
   "id": "5c7a9c30",
   "metadata": {},
   "outputs": [],
   "source": [
    "rising_level = 0\n",
    "gt_level = []\n",
    "\n",
    "steps = 6\n",
    "for _ in range(steps):\n",
    "    rising_level = rising_level + 0.1\n",
    "    gt_level.append(rising_level)"
   ]
  },
  {
   "cell_type": "code",
   "execution_count": 10,
   "id": "ad1377ca",
   "metadata": {},
   "outputs": [
    {
     "data": {
      "text/plain": [
       "[0.1, 0.2, 0.30000000000000004, 0.4, 0.5, 0.6]"
      ]
     },
     "execution_count": 10,
     "metadata": {},
     "output_type": "execute_result"
    }
   ],
   "source": [
    "gt_level"
   ]
  },
  {
   "cell_type": "markdown",
   "id": "464cde09",
   "metadata": {},
   "source": [
    "Define kalman filter params"
   ]
  },
  {
   "cell_type": "code",
   "execution_count": 11,
   "id": "f1d2bc09",
   "metadata": {},
   "outputs": [],
   "source": [
    "x0 = 0  # Initial value - arbitrary guess\n",
    "p0 = 1000  # State covariances (Error of estimation) - High since unknown\n",
    "q = 0.001  # System noise\n",
    "r = 0.1  # Measurement noise"
   ]
  },
  {
   "cell_type": "markdown",
   "id": "a16c7667",
   "metadata": {},
   "source": [
    "Instantiate filter"
   ]
  },
  {
   "cell_type": "code",
   "execution_count": 12,
   "id": "e939576c",
   "metadata": {},
   "outputs": [
    {
     "name": "stdout",
     "output_type": "stream",
     "text": [
      "Initialise model\n"
     ]
    }
   ],
   "source": [
    "testFilter_rising = MyKalmanFilter(x0, p0, constant_func, r, q)"
   ]
  },
  {
   "cell_type": "markdown",
   "id": "c4b51086",
   "metadata": {},
   "source": [
    "Evaluate against synthetic data"
   ]
  },
  {
   "cell_type": "code",
   "execution_count": 13,
   "id": "88134187",
   "metadata": {},
   "outputs": [],
   "source": [
    "%%capture\n",
    "xt_intr_list = []\n",
    "Pt_intr_list = []\n",
    "k_gain_list = []\n",
    "xt_curr_list = []\n",
    "Pt_curr_list = []\n",
    "\n",
    "measure_list = [0.11, 0.29, 0.32, 0.5, 0.58, 0.54]\n",
    "for measure in measure_list:\n",
    "    testFilter_rising.step(measure);\n",
    "    \n",
    "    # Record time steps    \n",
    "    xt_intr_list.append(testFilter_rising.xt_intr)\n",
    "    Pt_intr_list.append(testFilter_rising.Pt_intr)\n",
    "    k_gain_list.append(testFilter_rising.k_gain)\n",
    "    xt_curr_list.append(testFilter_rising.xt_curr)\n",
    "    Pt_curr_list.append(testFilter_rising.Pt_curr)"
   ]
  },
  {
   "cell_type": "markdown",
   "id": "2a908e0d",
   "metadata": {},
   "source": [
    "Check results"
   ]
  },
  {
   "cell_type": "code",
   "execution_count": 14,
   "id": "3f7b3fcf",
   "metadata": {},
   "outputs": [],
   "source": [
    "list_of_lists = [xt_intr_list,Pt_intr_list,k_gain_list,xt_curr_list,Pt_curr_list]\n",
    "df_rising_level = pd.DataFrame(list(zip(*list_of_lists)), columns= ['xt_intr','Pt_intr','k_gain','xt_curr','Pt_curr'])"
   ]
  },
  {
   "cell_type": "code",
   "execution_count": 15,
   "id": "20eb5b52",
   "metadata": {},
   "outputs": [
    {
     "data": {
      "text/html": [
       "<div>\n",
       "<style scoped>\n",
       "    .dataframe tbody tr th:only-of-type {\n",
       "        vertical-align: middle;\n",
       "    }\n",
       "\n",
       "    .dataframe tbody tr th {\n",
       "        vertical-align: top;\n",
       "    }\n",
       "\n",
       "    .dataframe thead th {\n",
       "        text-align: right;\n",
       "    }\n",
       "</style>\n",
       "<table border=\"1\" class=\"dataframe\">\n",
       "  <thead>\n",
       "    <tr style=\"text-align: right;\">\n",
       "      <th></th>\n",
       "      <th>xt_intr</th>\n",
       "      <th>Pt_intr</th>\n",
       "      <th>k_gain</th>\n",
       "      <th>xt_curr</th>\n",
       "      <th>Pt_curr</th>\n",
       "    </tr>\n",
       "  </thead>\n",
       "  <tbody>\n",
       "    <tr>\n",
       "      <th>0</th>\n",
       "      <td>0.000000</td>\n",
       "      <td>1000.001000</td>\n",
       "      <td>0.999900</td>\n",
       "      <td>0.109989</td>\n",
       "      <td>0.099990</td>\n",
       "    </tr>\n",
       "    <tr>\n",
       "      <th>1</th>\n",
       "      <td>0.109989</td>\n",
       "      <td>0.100990</td>\n",
       "      <td>0.502463</td>\n",
       "      <td>0.200438</td>\n",
       "      <td>0.050246</td>\n",
       "    </tr>\n",
       "    <tr>\n",
       "      <th>2</th>\n",
       "      <td>0.200438</td>\n",
       "      <td>0.051246</td>\n",
       "      <td>0.338827</td>\n",
       "      <td>0.240949</td>\n",
       "      <td>0.033883</td>\n",
       "    </tr>\n",
       "    <tr>\n",
       "      <th>3</th>\n",
       "      <td>0.240949</td>\n",
       "      <td>0.034883</td>\n",
       "      <td>0.258615</td>\n",
       "      <td>0.307943</td>\n",
       "      <td>0.025861</td>\n",
       "    </tr>\n",
       "    <tr>\n",
       "      <th>4</th>\n",
       "      <td>0.307943</td>\n",
       "      <td>0.026861</td>\n",
       "      <td>0.211739</td>\n",
       "      <td>0.365548</td>\n",
       "      <td>0.021174</td>\n",
       "    </tr>\n",
       "    <tr>\n",
       "      <th>5</th>\n",
       "      <td>0.365548</td>\n",
       "      <td>0.022174</td>\n",
       "      <td>0.181494</td>\n",
       "      <td>0.397210</td>\n",
       "      <td>0.018149</td>\n",
       "    </tr>\n",
       "  </tbody>\n",
       "</table>\n",
       "</div>"
      ],
      "text/plain": [
       "    xt_intr      Pt_intr    k_gain   xt_curr   Pt_curr\n",
       "0  0.000000  1000.001000  0.999900  0.109989  0.099990\n",
       "1  0.109989     0.100990  0.502463  0.200438  0.050246\n",
       "2  0.200438     0.051246  0.338827  0.240949  0.033883\n",
       "3  0.240949     0.034883  0.258615  0.307943  0.025861\n",
       "4  0.307943     0.026861  0.211739  0.365548  0.021174\n",
       "5  0.365548     0.022174  0.181494  0.397210  0.018149"
      ]
     },
     "execution_count": 15,
     "metadata": {},
     "output_type": "execute_result"
    }
   ],
   "source": [
    "df_rising_level"
   ]
  },
  {
   "cell_type": "code",
   "execution_count": 16,
   "id": "cef1e626",
   "metadata": {},
   "outputs": [
    {
     "data": {
      "image/png": "[encoded data removed]",
      "text/plain": [
       "<Figure size 640x480 with 1 Axes>"
      ]
     },
     "metadata": {},
     "output_type": "display_data"
    }
   ],
   "source": [
    "plt.plot(df_rising_level.index, df_rising_level['xt_curr'] ,marker=\".\",color=\"black\")\n",
    "plt.plot(df_rising_level.index, measure_list ,marker=\".\",color=\"red\")\n",
    "plt.plot(df_rising_level.index, gt_level ,marker=\".\",color=\"g\")\n",
    "plt.title(\"Constant level kalman filter\")\n",
    "plt.xlabel(\"Time\")\n",
    "plt.ylabel(\"Level\")\n",
    "plt.legend([\"Estimated\",\"Measured\",\"True Value\"],loc='upper left')\n",
    "plt.show()"
   ]
  }
 ],
 "metadata": {
  "kernelspec": {
   "display_name": "Python 3 (ipykernel)",
   "language": "python",
   "name": "python3"
  },
  "language_info": {
   "codemirror_mode": {
    "name": "ipython",
    "version": 3
   },
   "file_extension": ".py",
   "mimetype": "text/x-python",
   "name": "python",
   "nbconvert_exporter": "python",
   "pygments_lexer": "ipython3",
   "version": "3.9.16"
  }
 },
 "nbformat": 4,
 "nbformat_minor": 5
}
